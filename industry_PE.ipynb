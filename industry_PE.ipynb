{
 "cells": [
  {
   "cell_type": "code",
   "execution_count": 1,
   "metadata": {},
   "outputs": [],
   "source": [
    "from bs4 import BeautifulSoup\n",
    "from selenium import webdriver\n",
    "import time\n",
    "import csv\n",
    "from selenium import webdriver\n",
    "from selenium.webdriver.common.by import By\n",
    "from selenium.webdriver.support.ui import WebDriverWait\n",
    "from selenium.webdriver.support import expected_conditions as EC\n",
    "from selenium.webdriver.common.action_chains import ActionChains\n",
    "from selenium.webdriver.common.keys import Keys\n",
    "\n",
    "chrome_options = webdriver.ChromeOptions()\n",
    "# 使用headless无界面浏览器模式\n",
    "chrome_options.add_argument('--headless')\n",
    "chrome_options.add_argument('--disable-gpu')"
   ]
  },
  {
   "cell_type": "code",
   "execution_count": 2,
   "metadata": {},
   "outputs": [],
   "source": [
    "driver = webdriver.Chrome(chrome_options=chrome_options)\n",
    "#chrome_options=chrome_options\n",
    "url='http://data.eastmoney.com/gzfx/hylist.html'\n",
    "driver.get(url)"
   ]
  },
  {
   "cell_type": "code",
   "execution_count": 3,
   "metadata": {},
   "outputs": [],
   "source": [
    "soup = BeautifulSoup(driver.page_source, \"html.parser\")\n",
    "data_file= '/Users/zhangdi/Desktop/A_share/stock_daily/2020-03-02industry_PE.csv'\n",
    "with open(data_file,'w',newline='',encoding='utf8') as wf:\n",
    "    writer = csv.writer(wf)\n",
    "    record=['行业','PE(TTM)','PE(静)','市净率','PEG值','市现率',\n",
    "            '市销率','平均市值(亿元)','个股数量','亏损家数']\n",
    "    writer.writerow(record)\n",
    "    table=soup.find('table',attrs={'class':'tab1'})\n",
    "    rows=table.find_all('tr')\n",
    "    for row in rows:\n",
    "        record=[]\n",
    "        cols=row.find_all('td')\n",
    "        count=1\n",
    "        for col in cols:\n",
    "            if count==1 or count==3:\n",
    "                count+=1\n",
    "                continue\n",
    "            else:\n",
    "                count+=1\n",
    "                record.append(col.get_text().strip())\n",
    "        if len(record)==0:\n",
    "            continue\n",
    "        else:\n",
    "            writer.writerow(record)\n",
    "    driver.find_element_by_css_selector('[id=\"PageContgopage\"]').send_keys('2')\n",
    "    driver.find_element_by_css_selector('[class=\"btn_link\"]').click()\n",
    "    time.sleep(1)"
   ]
  },
  {
   "cell_type": "code",
   "execution_count": 4,
   "metadata": {},
   "outputs": [],
   "source": [
    "with open(data_file,'a',newline='',encoding='utf8') as wf:\n",
    "    soup = BeautifulSoup(driver.page_source, \"html.parser\")\n",
    "    writer = csv.writer(wf)\n",
    "    table=soup.find('table',attrs={'class':'tab1'})\n",
    "    rows=table.find_all('tr')\n",
    "    for row in rows:\n",
    "        record=[]\n",
    "        cols=row.find_all('td')\n",
    "        count=1\n",
    "        for col in cols:\n",
    "            if count==1 or count==3:\n",
    "                count+=1\n",
    "                continue\n",
    "            else:\n",
    "                count+=1\n",
    "                record.append(col.get_text().strip())\n",
    "        if len(record)==0:\n",
    "            continue\n",
    "        else:\n",
    "            writer.writerow(record)"
   ]
  }
 ],
 "metadata": {
  "kernelspec": {
   "display_name": "act",
   "language": "python",
   "name": "act"
  },
  "language_info": {
   "codemirror_mode": {
    "name": "ipython",
    "version": 3
   },
   "file_extension": ".py",
   "mimetype": "text/x-python",
   "name": "python",
   "nbconvert_exporter": "python",
   "pygments_lexer": "ipython3",
   "version": "3.7.4"
  }
 },
 "nbformat": 4,
 "nbformat_minor": 2
}

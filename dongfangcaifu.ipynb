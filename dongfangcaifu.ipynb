{
 "cells": [
  {
   "cell_type": "code",
   "execution_count": 90,
   "metadata": {},
   "outputs": [],
   "source": [
    "from bs4 import BeautifulSoup\n",
    "from selenium import webdriver\n",
    "import time\n",
    "import csv\n",
    "from selenium import webdriver\n",
    "from selenium.webdriver.common.by import By\n",
    "from selenium.webdriver.support.ui import WebDriverWait\n",
    "from selenium.webdriver.support import expected_conditions as EC\n",
    "from selenium.webdriver.common.action_chains import ActionChains\n",
    "from selenium.webdriver.common.keys import Keys\n",
    "\n",
    "chrome_options = webdriver.ChromeOptions()\n",
    "# 使用headless无界面浏览器模式\n",
    "chrome_options.add_argument('--headless')\n",
    "chrome_options.add_argument('--disable-gpu')"
   ]
  },
  {
   "cell_type": "code",
   "execution_count": 91,
   "metadata": {},
   "outputs": [],
   "source": [
    "def write_one_page(writer,soup):\n",
    "    for num in range(1,5):\n",
    "        table=soup.find('table',attrs={'id':'listTable'+str(num)})\n",
    "        rows=table.find_all('tr')\n",
    "        for row in rows:\n",
    "            record=[]\n",
    "            cols=row.find_all('td')\n",
    "            for col in cols:\n",
    "                record.append(col.get_text().strip())\n",
    "            if len(record)==0:\n",
    "                continue\n",
    "            else:\n",
    "                writer.writerow(record)"
   ]
  },
  {
   "cell_type": "code",
   "execution_count": 94,
   "metadata": {},
   "outputs": [],
   "source": [
    "def permno_craw(permno,market_type,driver):\n",
    "    url='http://quote.eastmoney.com/f1.html?code={}&market={}'\n",
    "    driver.get(url.format(permno,market_type))\n",
    "    soup = BeautifulSoup(driver.page_source, \"html.parser\")\n",
    "    counts=soup.find('span',attrs={'class':'count'}).get_text().strip()\n",
    "    if int(counts)==0:\n",
    "        return [permno,'No data',0]\n",
    "    else:\n",
    "        data_file= '/Users/zhangdi/Desktop/ceshi/{}.csv'.format(permno)\n",
    "        with open(data_file,'w',newline='',encoding='utf8') as wf:\n",
    "            writer = csv.writer(wf)\n",
    "            head_csv=['time','price','volumn']\n",
    "            writer.writerow(head_csv)\n",
    "            soup = BeautifulSoup(driver.page_source, \"html.parser\")\n",
    "            write_one_page(writer=writer,soup=soup)\n",
    "            for page_number in range(2,(int(counts)+1)):\n",
    "                driver.find_element_by_css_selector('[class=\"go\"]').send_keys(str(page_number))\n",
    "                driver.find_element_by_css_selector('[class=\"goBtn fl\"]').click()\n",
    "                soup = BeautifulSoup(driver.page_source, \"html.parser\")\n",
    "                write_one_page(writer=writer,soup=soup)\n",
    "            return[permno,'finished',counts]"
   ]
  },
  {
   "cell_type": "code",
   "execution_count": 95,
   "metadata": {},
   "outputs": [
    {
     "name": "stderr",
     "output_type": "stream",
     "text": [
      "/Users/zhangdi/Desktop/A_share/venv/lib/python3.7/site-packages/ipykernel_launcher.py:6: DeprecationWarning: use options instead of chrome_options\n",
      "  \n"
     ]
    }
   ],
   "source": [
    "stocks={'603799':'1',\n",
    "        '002156':'2',\n",
    "        '002463':'2',\n",
    "        '000001':'2'}\n",
    "results=dict()\n",
    "driver = webdriver.Chrome(chrome_options=chrome_options)\n",
    "for stock,market_type in stocks.items():\n",
    "    result=permno_craw(stock,market_type,driver)\n",
    "    results[stock]=result\n",
    "    time.sleep(1)"
   ]
  },
  {
   "cell_type": "code",
   "execution_count": 96,
   "metadata": {},
   "outputs": [
    {
     "data": {
      "text/plain": [
       "{'603799': ['603799', 'finished', '34'],\n",
       " '002156': ['002156', 'finished', '33'],\n",
       " '002463': ['002463', 'finished', '33'],\n",
       " '000001': ['000001', 'finished', '33']}"
      ]
     },
     "execution_count": 96,
     "metadata": {},
     "output_type": "execute_result"
    }
   ],
   "source": [
    "results"
   ]
  },
  {
   "cell_type": "code",
   "execution_count": null,
   "metadata": {},
   "outputs": [],
   "source": []
  }
 ],
 "metadata": {
  "kernelspec": {
   "display_name": "venv",
   "language": "python",
   "name": "venv"
  },
  "language_info": {
   "codemirror_mode": {
    "name": "ipython",
    "version": 3
   },
   "file_extension": ".py",
   "mimetype": "text/x-python",
   "name": "python",
   "nbconvert_exporter": "python",
   "pygments_lexer": "ipython3",
   "version": "3.7.4"
  }
 },
 "nbformat": 4,
 "nbformat_minor": 2
}
